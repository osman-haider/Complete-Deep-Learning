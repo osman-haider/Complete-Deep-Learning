{
  "nbformat": 4,
  "nbformat_minor": 0,
  "metadata": {
    "colab": {
      "provenance": []
    },
    "kernelspec": {
      "name": "python3",
      "display_name": "Python 3"
    },
    "language_info": {
      "name": "python"
    }
  },
  "cells": [
    {
      "cell_type": "code",
      "execution_count": null,
      "metadata": {
        "id": "a9SDmGQ6TMH8"
      },
      "outputs": [],
      "source": [
        "import tensorflow as tf"
      ]
    },
    {
      "cell_type": "code",
      "source": [
        "zero_d_tensor = tf.constant(5)"
      ],
      "metadata": {
        "id": "nDFQIku5TkS3"
      },
      "execution_count": null,
      "outputs": []
    },
    {
      "cell_type": "code",
      "source": [
        "print(zero_d_tensor)"
      ],
      "metadata": {
        "colab": {
          "base_uri": "https://localhost:8080/"
        },
        "id": "0dOxVzjfTt1U",
        "outputId": "951fe66f-e1ee-4cd2-8ad8-994f9ef5ccf9"
      },
      "execution_count": null,
      "outputs": [
        {
          "output_type": "stream",
          "name": "stdout",
          "text": [
            "tf.Tensor(5, shape=(), dtype=int32)\n"
          ]
        }
      ]
    },
    {
      "cell_type": "code",
      "source": [
        "one_d_tensor = tf.constant([0,2,3],dtype=tf.float32)\n",
        "casted_one_d_tensor = tf.cast(one_d_tensor,dtype=tf.int16)\n",
        "print(one_d_tensor)\n",
        "print(casted_one_d_tensor)"
      ],
      "metadata": {
        "colab": {
          "base_uri": "https://localhost:8080/"
        },
        "id": "bX6XXFNuT1Qx",
        "outputId": "21724065-ed98-49a6-9cbf-aed7486db0fb"
      },
      "execution_count": null,
      "outputs": [
        {
          "output_type": "stream",
          "name": "stdout",
          "text": [
            "tf.Tensor([0. 2. 3.], shape=(3,), dtype=float32)\n",
            "tf.Tensor([0 2 3], shape=(3,), dtype=int16)\n"
          ]
        }
      ]
    },
    {
      "cell_type": "code",
      "source": [
        "casted_one_d_tensor = tf.cast(one_d_tensor,dtype=tf.bool)\n",
        "print(casted_one_d_tensor)"
      ],
      "metadata": {
        "colab": {
          "base_uri": "https://localhost:8080/"
        },
        "id": "AgPQezB6ZNW3",
        "outputId": "c787fba4-0ce1-4959-d4c6-701bc72a3199"
      },
      "execution_count": null,
      "outputs": [
        {
          "output_type": "stream",
          "name": "stdout",
          "text": [
            "tf.Tensor([False  True  True], shape=(3,), dtype=bool)\n"
          ]
        }
      ]
    },
    {
      "cell_type": "code",
      "source": [
        "tensor_bool = tf.constant([True,True,False])\n",
        "print(tensor_bool)"
      ],
      "metadata": {
        "colab": {
          "base_uri": "https://localhost:8080/"
        },
        "id": "Yu4uhuBXZhJ9",
        "outputId": "a7a0573e-c284-456f-a648-1e845f08bddc"
      },
      "execution_count": null,
      "outputs": [
        {
          "output_type": "stream",
          "name": "stdout",
          "text": [
            "tf.Tensor([ True  True False], shape=(3,), dtype=bool)\n"
          ]
        }
      ]
    },
    {
      "cell_type": "code",
      "source": [
        "tensor_str = tf.constant([\"hello\",\"hi\"])\n",
        "print(tensor_str)"
      ],
      "metadata": {
        "colab": {
          "base_uri": "https://localhost:8080/"
        },
        "id": "WQXH-cFJZ9g2",
        "outputId": "e20ade26-1a91-42cd-9312-ae6c258af54c"
      },
      "execution_count": null,
      "outputs": [
        {
          "output_type": "stream",
          "name": "stdout",
          "text": [
            "tf.Tensor([b'hello' b'hi'], shape=(2,), dtype=string)\n"
          ]
        }
      ]
    },
    {
      "cell_type": "code",
      "source": [
        "two_d_tensor = tf.constant([\n",
        "    [1,2,3],\n",
        "    [2,3,4],\n",
        "    [3,4,5],\n",
        "    [4,5,6]\n",
        "])\n",
        "print(two_d_tensor)"
      ],
      "metadata": {
        "colab": {
          "base_uri": "https://localhost:8080/"
        },
        "id": "z1xLFC6yUGkl",
        "outputId": "045be35a-300c-4ccd-ae71-7ae0c4f7d82f"
      },
      "execution_count": null,
      "outputs": [
        {
          "output_type": "stream",
          "name": "stdout",
          "text": [
            "tf.Tensor(\n",
            "[[1 2 3]\n",
            " [2 3 4]\n",
            " [3 4 5]\n",
            " [4 5 6]], shape=(4, 3), dtype=int32)\n"
          ]
        }
      ]
    },
    {
      "cell_type": "code",
      "source": [
        "two_d_tensor.shape"
      ],
      "metadata": {
        "colab": {
          "base_uri": "https://localhost:8080/"
        },
        "id": "AZuk1dJLVvq4",
        "outputId": "ae47e221-6e06-49d8-d823-be2e62e03264"
      },
      "execution_count": null,
      "outputs": [
        {
          "output_type": "execute_result",
          "data": {
            "text/plain": [
              "TensorShape([4, 3])"
            ]
          },
          "metadata": {},
          "execution_count": 9
        }
      ]
    },
    {
      "cell_type": "code",
      "source": [
        "three_d_tensor = tf.constant([\n",
        "    [\n",
        "        [1,2,3],\n",
        "        [2,3,4]\n",
        "    ],\n",
        "    [\n",
        "        [3,4,5],\n",
        "        [4,5,6]\n",
        "    ],\n",
        "    [\n",
        "        [5,6,7],\n",
        "        [6,7,8]\n",
        "    ],\n",
        "    [\n",
        "        [7,8,9],\n",
        "        [8,9,10]\n",
        "    ]\n",
        "])\n",
        "print(three_d_tensor)"
      ],
      "metadata": {
        "colab": {
          "base_uri": "https://localhost:8080/"
        },
        "id": "QgYT7_OKUbaG",
        "outputId": "87b83dc2-aca8-4d21-f103-e4013d2f72e3"
      },
      "execution_count": null,
      "outputs": [
        {
          "output_type": "stream",
          "name": "stdout",
          "text": [
            "tf.Tensor(\n",
            "[[[ 1  2  3]\n",
            "  [ 2  3  4]]\n",
            "\n",
            " [[ 3  4  5]\n",
            "  [ 4  5  6]]\n",
            "\n",
            " [[ 5  6  7]\n",
            "  [ 6  7  8]]\n",
            "\n",
            " [[ 7  8  9]\n",
            "  [ 8  9 10]]], shape=(4, 2, 3), dtype=int32)\n"
          ]
        }
      ]
    },
    {
      "cell_type": "code",
      "source": [
        "three_d_tensor.shape"
      ],
      "metadata": {
        "colab": {
          "base_uri": "https://localhost:8080/"
        },
        "id": "0B-iwVxNVW5i",
        "outputId": "07f24aa6-19a8-4bf9-bdb1-d7f79bcec671"
      },
      "execution_count": null,
      "outputs": [
        {
          "output_type": "execute_result",
          "data": {
            "text/plain": [
              "TensorShape([4, 2, 3])"
            ]
          },
          "metadata": {},
          "execution_count": 8
        }
      ]
    },
    {
      "cell_type": "code",
      "source": [
        "four_d_tensor = tf.constant([\n",
        "    [\n",
        "    [\n",
        "        [1,2,3],\n",
        "        [2,3,4]\n",
        "    ],\n",
        "    [\n",
        "        [3,4,5],\n",
        "        [4,5,6]\n",
        "    ],\n",
        "    [\n",
        "        [5,6,7],\n",
        "        [6,7,8]\n",
        "    ],\n",
        "    [\n",
        "        [7,8,9],\n",
        "        [8,9,10]\n",
        "    ]\n",
        "],\n",
        "    [\n",
        "    [\n",
        "        [1,2,3],\n",
        "        [2,3,4]\n",
        "    ],\n",
        "    [\n",
        "        [3,4,5],\n",
        "        [4,5,6]\n",
        "    ],\n",
        "    [\n",
        "        [5,6,7],\n",
        "        [6,7,8]\n",
        "    ],\n",
        "    [\n",
        "        [7,8,9],\n",
        "        [8,9,10]\n",
        "    ]\n",
        "],\n",
        "    [\n",
        "    [\n",
        "        [1,2,3],\n",
        "        [2,3,4]\n",
        "    ],\n",
        "    [\n",
        "        [3,4,5],\n",
        "        [4,5,6]\n",
        "    ],\n",
        "    [\n",
        "        [5,6,7],\n",
        "        [6,7,8]\n",
        "    ],\n",
        "    [\n",
        "        [7,8,9],\n",
        "        [8,9,10]\n",
        "    ]\n",
        "]\n",
        "    ],dtype=tf.float32)\n",
        "print(four_d_tensor)"
      ],
      "metadata": {
        "colab": {
          "base_uri": "https://localhost:8080/"
        },
        "id": "oYQnxC-_Vr31",
        "outputId": "2cc5a952-1b59-4f08-aad8-eec030a3c900"
      },
      "execution_count": null,
      "outputs": [
        {
          "output_type": "stream",
          "name": "stdout",
          "text": [
            "tf.Tensor(\n",
            "[[[[ 1.  2.  3.]\n",
            "   [ 2.  3.  4.]]\n",
            "\n",
            "  [[ 3.  4.  5.]\n",
            "   [ 4.  5.  6.]]\n",
            "\n",
            "  [[ 5.  6.  7.]\n",
            "   [ 6.  7.  8.]]\n",
            "\n",
            "  [[ 7.  8.  9.]\n",
            "   [ 8.  9. 10.]]]\n",
            "\n",
            "\n",
            " [[[ 1.  2.  3.]\n",
            "   [ 2.  3.  4.]]\n",
            "\n",
            "  [[ 3.  4.  5.]\n",
            "   [ 4.  5.  6.]]\n",
            "\n",
            "  [[ 5.  6.  7.]\n",
            "   [ 6.  7.  8.]]\n",
            "\n",
            "  [[ 7.  8.  9.]\n",
            "   [ 8.  9. 10.]]]\n",
            "\n",
            "\n",
            " [[[ 1.  2.  3.]\n",
            "   [ 2.  3.  4.]]\n",
            "\n",
            "  [[ 3.  4.  5.]\n",
            "   [ 4.  5.  6.]]\n",
            "\n",
            "  [[ 5.  6.  7.]\n",
            "   [ 6.  7.  8.]]\n",
            "\n",
            "  [[ 7.  8.  9.]\n",
            "   [ 8.  9. 10.]]]], shape=(3, 4, 2, 3), dtype=float32)\n"
          ]
        }
      ]
    },
    {
      "cell_type": "code",
      "source": [
        "import numpy as np"
      ],
      "metadata": {
        "id": "0lKQyWmGWZGl"
      },
      "execution_count": null,
      "outputs": []
    },
    {
      "cell_type": "code",
      "source": [
        "np_array = np.array([1,2,3])\n",
        "print(np_array)"
      ],
      "metadata": {
        "colab": {
          "base_uri": "https://localhost:8080/"
        },
        "id": "Tg_s68uwal73",
        "outputId": "3e2574c8-222b-4a91-8d76-2dafde9e7d07"
      },
      "execution_count": null,
      "outputs": [
        {
          "output_type": "stream",
          "name": "stdout",
          "text": [
            "[1 2 3]\n"
          ]
        }
      ]
    },
    {
      "cell_type": "code",
      "source": [
        "converted_tensor = tf.convert_to_tensor(np_array)\n",
        "print(converted_tensor)"
      ],
      "metadata": {
        "colab": {
          "base_uri": "https://localhost:8080/"
        },
        "id": "nVrQqwNqas7o",
        "outputId": "0ae04d59-92e7-47da-9bdb-d30538fd131d"
      },
      "execution_count": null,
      "outputs": [
        {
          "output_type": "stream",
          "name": "stdout",
          "text": [
            "tf.Tensor([1 2 3], shape=(3,), dtype=int64)\n"
          ]
        }
      ]
    },
    {
      "cell_type": "code",
      "source": [
        "eye_tensor = tf.eye(\n",
        "    num_rows=3,\n",
        "    num_columns=None,\n",
        "    batch_shape=None,\n",
        "    dtype=tf.dtypes.float32,\n",
        "    name=None\n",
        ")\n",
        "print(eye_tensor)"
      ],
      "metadata": {
        "colab": {
          "base_uri": "https://localhost:8080/"
        },
        "id": "RZBbqkkga5Xv",
        "outputId": "b6aeb790-e6a3-46cb-c520-8b88e3454f85"
      },
      "execution_count": null,
      "outputs": [
        {
          "output_type": "stream",
          "name": "stdout",
          "text": [
            "tf.Tensor(\n",
            "[[1. 0. 0.]\n",
            " [0. 1. 0.]\n",
            " [0. 0. 1.]], shape=(3, 3), dtype=float32)\n"
          ]
        }
      ]
    },
    {
      "cell_type": "code",
      "source": [
        "print(eye_tensor*3)"
      ],
      "metadata": {
        "colab": {
          "base_uri": "https://localhost:8080/"
        },
        "id": "WjhYgoPQbhs9",
        "outputId": "07dd8159-0437-4b7d-e88e-28921e43ad48"
      },
      "execution_count": null,
      "outputs": [
        {
          "output_type": "stream",
          "name": "stdout",
          "text": [
            "tf.Tensor(\n",
            "[[3. 0. 0.]\n",
            " [0. 3. 0.]\n",
            " [0. 0. 3.]], shape=(3, 3), dtype=float32)\n"
          ]
        }
      ]
    },
    {
      "cell_type": "code",
      "source": [
        "eye_tensor = tf.eye(\n",
        "    num_rows=5,\n",
        "    num_columns=None,\n",
        "    batch_shape=[2,3],\n",
        "    dtype=tf.dtypes.float16,\n",
        "    name=None\n",
        ")\n",
        "print(eye_tensor)"
      ],
      "metadata": {
        "colab": {
          "base_uri": "https://localhost:8080/"
        },
        "id": "eSEySxZVbpcK",
        "outputId": "ee66025f-e7fd-4bca-89a3-c89ec31a11f4"
      },
      "execution_count": null,
      "outputs": [
        {
          "output_type": "stream",
          "name": "stdout",
          "text": [
            "tf.Tensor(\n",
            "[[[[1. 0. 0. 0. 0.]\n",
            "   [0. 1. 0. 0. 0.]\n",
            "   [0. 0. 1. 0. 0.]\n",
            "   [0. 0. 0. 1. 0.]\n",
            "   [0. 0. 0. 0. 1.]]\n",
            "\n",
            "  [[1. 0. 0. 0. 0.]\n",
            "   [0. 1. 0. 0. 0.]\n",
            "   [0. 0. 1. 0. 0.]\n",
            "   [0. 0. 0. 1. 0.]\n",
            "   [0. 0. 0. 0. 1.]]\n",
            "\n",
            "  [[1. 0. 0. 0. 0.]\n",
            "   [0. 1. 0. 0. 0.]\n",
            "   [0. 0. 1. 0. 0.]\n",
            "   [0. 0. 0. 1. 0.]\n",
            "   [0. 0. 0. 0. 1.]]]\n",
            "\n",
            "\n",
            " [[[1. 0. 0. 0. 0.]\n",
            "   [0. 1. 0. 0. 0.]\n",
            "   [0. 0. 1. 0. 0.]\n",
            "   [0. 0. 0. 1. 0.]\n",
            "   [0. 0. 0. 0. 1.]]\n",
            "\n",
            "  [[1. 0. 0. 0. 0.]\n",
            "   [0. 1. 0. 0. 0.]\n",
            "   [0. 0. 1. 0. 0.]\n",
            "   [0. 0. 0. 1. 0.]\n",
            "   [0. 0. 0. 0. 1.]]\n",
            "\n",
            "  [[1. 0. 0. 0. 0.]\n",
            "   [0. 1. 0. 0. 0.]\n",
            "   [0. 0. 1. 0. 0.]\n",
            "   [0. 0. 0. 1. 0.]\n",
            "   [0. 0. 0. 0. 1.]]]], shape=(2, 3, 5, 5), dtype=float16)\n"
          ]
        }
      ]
    },
    {
      "cell_type": "code",
      "source": [
        "fill_tensor = tf.fill(\n",
        "    [2,3,4], 8, name=None, layout=None\n",
        ")\n",
        "print(fill_tensor)"
      ],
      "metadata": {
        "colab": {
          "base_uri": "https://localhost:8080/"
        },
        "id": "kkGbxvBIb1xw",
        "outputId": "acc3d086-39e1-48d5-e8ca-5432809ea257"
      },
      "execution_count": null,
      "outputs": [
        {
          "output_type": "stream",
          "name": "stdout",
          "text": [
            "tf.Tensor(\n",
            "[[[8 8 8 8]\n",
            "  [8 8 8 8]\n",
            "  [8 8 8 8]]\n",
            "\n",
            " [[8 8 8 8]\n",
            "  [8 8 8 8]\n",
            "  [8 8 8 8]]], shape=(2, 3, 4), dtype=int32)\n"
          ]
        }
      ]
    },
    {
      "cell_type": "code",
      "source": [
        "one_tensor = tf.ones(\n",
        "    [2,3,4],\n",
        "    dtype=tf.dtypes.float32,\n",
        "    name=None,\n",
        "    layout=None\n",
        ")\n",
        "print(one_tensor)"
      ],
      "metadata": {
        "colab": {
          "base_uri": "https://localhost:8080/"
        },
        "id": "xmleOFgEcy5F",
        "outputId": "bc5f34c2-7c1a-41b2-cad2-1ca88cd06923"
      },
      "execution_count": null,
      "outputs": [
        {
          "output_type": "stream",
          "name": "stdout",
          "text": [
            "tf.Tensor(\n",
            "[[[1. 1. 1. 1.]\n",
            "  [1. 1. 1. 1.]\n",
            "  [1. 1. 1. 1.]]\n",
            "\n",
            " [[1. 1. 1. 1.]\n",
            "  [1. 1. 1. 1.]\n",
            "  [1. 1. 1. 1.]]], shape=(2, 3, 4), dtype=float32)\n"
          ]
        }
      ]
    },
    {
      "cell_type": "code",
      "source": [
        "ones_like_tensor = tf.ones_like(\n",
        "    fill_tensor, dtype=None, name=None, layout=None\n",
        ")\n",
        "print(ones_like_tensor)"
      ],
      "metadata": {
        "colab": {
          "base_uri": "https://localhost:8080/"
        },
        "id": "KaXLhYv-dRiK",
        "outputId": "820f3262-0702-4e5c-fd43-f0c9cffb20c9"
      },
      "execution_count": null,
      "outputs": [
        {
          "output_type": "stream",
          "name": "stdout",
          "text": [
            "tf.Tensor(\n",
            "[[[1 1 1 1]\n",
            "  [1 1 1 1]\n",
            "  [1 1 1 1]]\n",
            "\n",
            " [[1 1 1 1]\n",
            "  [1 1 1 1]\n",
            "  [1 1 1 1]]], shape=(2, 3, 4), dtype=int32)\n"
          ]
        }
      ]
    },
    {
      "cell_type": "code",
      "source": [
        "rank_tensor = tf.rank(\n",
        "    three_d_tensor, name=None\n",
        ")\n",
        "print(rank_tensor)"
      ],
      "metadata": {
        "colab": {
          "base_uri": "https://localhost:8080/"
        },
        "id": "tPFuAoRCeQ7m",
        "outputId": "63950af6-e370-43a6-f51e-89a4128e9972"
      },
      "execution_count": null,
      "outputs": [
        {
          "output_type": "stream",
          "name": "stdout",
          "text": [
            "tf.Tensor(3, shape=(), dtype=int32)\n"
          ]
        }
      ]
    },
    {
      "cell_type": "code",
      "source": [
        "tf.size(three_d_tensor)"
      ],
      "metadata": {
        "colab": {
          "base_uri": "https://localhost:8080/"
        },
        "id": "BPitRIw8fJqD",
        "outputId": "261eb901-42c9-4d26-ed9c-75ea39860c7c"
      },
      "execution_count": null,
      "outputs": [
        {
          "output_type": "execute_result",
          "data": {
            "text/plain": [
              "<tf.Tensor: shape=(), dtype=int32, numpy=24>"
            ]
          },
          "metadata": {},
          "execution_count": 39
        }
      ]
    },
    {
      "cell_type": "code",
      "source": [
        "random_tensor = tf.random.normal(\n",
        "    [3,2],mean=10.0, stddev=0.05, seed=None\n",
        ")\n",
        "print(random_tensor)"
      ],
      "metadata": {
        "colab": {
          "base_uri": "https://localhost:8080/"
        },
        "id": "ep71nONwfXhW",
        "outputId": "d7acce03-96a1-497e-a64e-2e6f49089654"
      },
      "execution_count": null,
      "outputs": [
        {
          "output_type": "stream",
          "name": "stdout",
          "text": [
            "tf.Tensor(\n",
            "[[ 9.991317  9.97269 ]\n",
            " [ 9.958887  9.970129]\n",
            " [10.034279  9.903491]], shape=(3, 2), dtype=float32)\n"
          ]
        }
      ]
    },
    {
      "cell_type": "code",
      "source": [
        "uniform_tensor = tf.random.uniform(\n",
        "    [5,],minval=-0, maxval=8, seed=None\n",
        ")\n",
        "print(uniform_tensor)"
      ],
      "metadata": {
        "colab": {
          "base_uri": "https://localhost:8080/"
        },
        "id": "LxDXq5MKg2Xg",
        "outputId": "7123ac64-e1bb-49fc-8389-ddbc869dc8c6"
      },
      "execution_count": null,
      "outputs": [
        {
          "output_type": "stream",
          "name": "stdout",
          "text": [
            "tf.Tensor([6.117071  7.8631077 7.4341764 7.313596  6.4869165], shape=(5,), dtype=float32)\n"
          ]
        }
      ]
    },
    {
      "cell_type": "code",
      "source": [
        " uniform_tensor = tf.random.uniform(\n",
        "    [5,5],minval=-0, maxval=8, seed=None\n",
        ")\n",
        "print(uniform_tensor)"
      ],
      "metadata": {
        "colab": {
          "base_uri": "https://localhost:8080/"
        },
        "id": "7M6-A-pnigNK",
        "outputId": "7563e10c-9794-443c-edff-1709bafcc79b"
      },
      "execution_count": null,
      "outputs": [
        {
          "output_type": "stream",
          "name": "stdout",
          "text": [
            "tf.Tensor(\n",
            "[[1.8710909  1.2346659  5.4700365  5.594598   3.3740253 ]\n",
            " [5.08348    6.1029377  1.2966175  3.3619184  7.8306227 ]\n",
            " [1.4213543  3.7150993  2.5382833  5.175125   0.93380165]\n",
            " [0.3466997  6.601673   7.834689   6.6766167  2.1470642 ]\n",
            " [5.632144   3.4570189  2.4905567  0.2833948  2.2163057 ]], shape=(5, 5), dtype=float32)\n"
          ]
        }
      ]
    },
    {
      "cell_type": "code",
      "source": [
        "tf.random.set_seed(5)\n",
        "print(tf.random.uniform([3,],maxval=5,dtype=tf.int32, seed=10))\n",
        "print(tf.random.uniform([3,],maxval=5,dtype=tf.int32, seed=10))\n",
        "print(tf.random.uniform([3,],maxval=5,dtype=tf.int32, seed=10))\n",
        "print(tf.random.uniform([3,],maxval=5,dtype=tf.int32, seed=10))"
      ],
      "metadata": {
        "colab": {
          "base_uri": "https://localhost:8080/"
        },
        "id": "KBEceBogjuon",
        "outputId": "8b451886-ad06-49b5-e241-337c671fe5a0"
      },
      "execution_count": null,
      "outputs": [
        {
          "output_type": "stream",
          "name": "stdout",
          "text": [
            "tf.Tensor([4 3 1], shape=(3,), dtype=int32)\n",
            "tf.Tensor([4 3 2], shape=(3,), dtype=int32)\n",
            "tf.Tensor([1 1 1], shape=(3,), dtype=int32)\n",
            "tf.Tensor([1 3 3], shape=(3,), dtype=int32)\n"
          ]
        }
      ]
    },
    {
      "cell_type": "code",
      "source": [
        "tf.random.set_seed(5)\n",
        "print(tf.random.uniform([3,],maxval=5,dtype=tf.int32, seed=10))\n",
        "print(tf.random.uniform([3,],maxval=5,dtype=tf.int32, seed=10))\n",
        "print(tf.random.uniform([3,],maxval=5,dtype=tf.int32, seed=10))\n",
        "print(tf.random.uniform([3,],maxval=5,dtype=tf.int32, seed=10))"
      ],
      "metadata": {
        "colab": {
          "base_uri": "https://localhost:8080/"
        },
        "id": "2EYNXoqoksoF",
        "outputId": "3824db97-d762-4f70-cb73-cf8c84f188fb"
      },
      "execution_count": null,
      "outputs": [
        {
          "output_type": "stream",
          "name": "stdout",
          "text": [
            "tf.Tensor([4 3 1], shape=(3,), dtype=int32)\n",
            "tf.Tensor([4 3 2], shape=(3,), dtype=int32)\n",
            "tf.Tensor([1 1 1], shape=(3,), dtype=int32)\n",
            "tf.Tensor([1 3 3], shape=(3,), dtype=int32)\n"
          ]
        }
      ]
    },
    {
      "cell_type": "code",
      "source": [],
      "metadata": {
        "id": "i-pfKhtJlbvU"
      },
      "execution_count": null,
      "outputs": []
    }
  ]
}